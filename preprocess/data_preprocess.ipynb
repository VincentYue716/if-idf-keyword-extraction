{
 "cells": [
  {
   "cell_type": "markdown",
   "source": [
    "## Import the packages"
   ],
   "metadata": {
    "collapsed": false
   }
  },
  {
   "cell_type": "code",
   "execution_count": 14,
   "outputs": [],
   "source": [
    "import pkuseg\n",
    "import re\n",
    "import pandas as pd"
   ],
   "metadata": {
    "collapsed": false,
    "pycharm": {
     "name": "#%%\n"
    }
   }
  },
  {
   "cell_type": "markdown",
   "source": [
    "## Helper functions\n",
    "1. read_csv -> convert csv file to dataframe\n",
    "2. read_txt -> convert txt file to list\n",
    "3. remove_notation -> only remain Chinese characters, English word and numbers of a string\n",
    "4. sentence_preprocess -> remove media words of weibo"
   ],
   "metadata": {
    "collapsed": false,
    "pycharm": {
     "name": "#%% md\n"
    }
   }
  },
  {
   "cell_type": "code",
   "execution_count": 15,
   "outputs": [],
   "source": [
    "def read_csv(file_path):\n",
    "    dataframe = pd.read_csv(file_path, encoding='utf-8')\n",
    "    return dataframe\n",
    "\n",
    "def read_txt(file_path):\n",
    "    stopwords = [line.strip() for line in open(file_path, 'r').readlines()]\n",
    "    return stopwords\n",
    "\n",
    "def remove_notation(dirty_word):\n",
    "    content = re.compile('[^\\u4e00-\\u9fa5a-zA-Z0-9]')\n",
    "    clean_word = content.sub('', dirty_word)\n",
    "    return clean_word\n",
    "\n",
    "def sentence_preprocess(item):\n",
    "    medias = read_txt('../dataset/media.txt')\n",
    "    content = re.compile('L[\\u4e00-\\u9fa5a-zA-Z0-9]*的[\\u4e00-\\u9fa5]*视.')\n",
    "    item = content.sub('', item)\n",
    "    content = re.compile('（凤凰卫视[\\u4e00-\\u9fa5a-zA-Z0-9]*报道）')\n",
    "    item = content.sub('', item)\n",
    "    content = re.compile('看凤凰专题[\\u4e00-\\u9fa5a-zA-Z0-9]*')\n",
    "    item = content.sub('', item)\n",
    "\n",
    "    for i in medias:\n",
    "        item = item.replace(i, \"\")\n",
    "    return item"
   ],
   "metadata": {
    "collapsed": false,
    "pycharm": {
     "name": "#%% Sentence pre-process\n"
    }
   }
  },
  {
   "cell_type": "markdown",
   "source": [
    "## Initialize the word segmentation tool"
   ],
   "metadata": {
    "collapsed": false,
    "pycharm": {
     "name": "#%% md\n"
    }
   }
  },
  {
   "cell_type": "code",
   "execution_count": 16,
   "outputs": [],
   "source": [
    "lexicon = ['特朗普', '微博']\n",
    "seg = pkuseg.pkuseg(model_name='default', user_dict=lexicon)"
   ],
   "metadata": {
    "collapsed": false,
    "pycharm": {
     "name": "#%%\n"
    }
   }
  },
  {
   "cell_type": "markdown",
   "source": [
    "## Read Weibo dataset"
   ],
   "metadata": {
    "collapsed": false,
    "pycharm": {
     "name": "#%% md\n"
    }
   }
  },
  {
   "cell_type": "code",
   "execution_count": 17,
   "outputs": [],
   "source": [
    "df = pd.read_csv('../dataset/trump/trump_dataset.csv')\n",
    "doc_list = df['微博正文'].astype(str)"
   ],
   "metadata": {
    "collapsed": false,
    "pycharm": {
     "name": "#%%\n"
    }
   }
  },
  {
   "cell_type": "markdown",
   "source": [
    "## Preprocess the Weibo dataset\n",
    "1. clean\n",
    "2. remove stop words\n",
    "2. word segmentation"
   ],
   "metadata": {
    "collapsed": false
   }
  },
  {
   "cell_type": "code",
   "execution_count": 18,
   "outputs": [],
   "source": [
    "rst = []\n",
    "\n",
    "for doc in doc_list:\n",
    "    doc = sentence_preprocess(doc)\n",
    "    rst.append(seg.cut(doc))\n",
    "\n",
    "result = []\n",
    "\n",
    "for words in rst:\n",
    "    new_words = []\n",
    "    for word in words:\n",
    "        new_word = remove_notation(word)\n",
    "        if len(new_word) > 1:\n",
    "            new_words.append(new_word)\n",
    "    result.append(new_words)\n",
    "\n",
    "stop_words_list = read_txt('../dataset/stop_words.txt')\n",
    "\n",
    "result1 = []\n",
    "for words in result:\n",
    "    parse_sentence = ''\n",
    "    for word in words:\n",
    "        if word not in stop_words_list:\n",
    "            if word != '\\t':\n",
    "                parse_sentence += word\n",
    "                parse_sentence += \" \"\n",
    "    result1.append(parse_sentence)"
   ],
   "metadata": {
    "collapsed": false,
    "pycharm": {
     "name": "#%%\n"
    }
   }
  },
  {
   "cell_type": "markdown",
   "source": [
    "## Write the preprocessed text data back to the original csv file"
   ],
   "metadata": {
    "collapsed": false,
    "pycharm": {
     "name": "#%% md\n"
    }
   }
  },
  {
   "cell_type": "code",
   "execution_count": 19,
   "outputs": [],
   "source": [
    "del df['微博正文']\n",
    "df['微博正文'] = result1\n",
    "df.to_csv('../dataset/trump/preprocessed_v3.csv')"
   ],
   "metadata": {
    "collapsed": false,
    "pycharm": {
     "name": "#%%\n"
    }
   }
  },
  {
   "cell_type": "markdown",
   "source": [
    "## Remove empty Weibo data of the csv file"
   ],
   "metadata": {
    "collapsed": false,
    "pycharm": {
     "name": "#%% md\n"
    }
   }
  },
  {
   "cell_type": "code",
   "source": [
    "df = pd.read_csv('../dataset/trump/preprocessed_v3.csv')\n",
    "df = df[pd.notnull(df['微博正文'])]\n",
    "df.to_csv('../dataset/trump/preprocessed_v3.csv')"
   ],
   "metadata": {
    "collapsed": false,
    "pycharm": {
     "name": "#%%\n"
    }
   },
   "execution_count": 20,
   "outputs": []
  }
 ],
 "metadata": {
  "kernelspec": {
   "display_name": "Python 3",
   "language": "python",
   "name": "python3"
  },
  "language_info": {
   "codemirror_mode": {
    "name": "ipython",
    "version": 2
   },
   "file_extension": ".py",
   "mimetype": "text/x-python",
   "name": "python",
   "nbconvert_exporter": "python",
   "pygments_lexer": "ipython2",
   "version": "2.7.6"
  }
 },
 "nbformat": 4,
 "nbformat_minor": 0
}