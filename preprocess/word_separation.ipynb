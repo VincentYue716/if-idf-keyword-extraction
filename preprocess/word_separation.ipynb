{
 "cells": [
  {
   "cell_type": "code",
   "execution_count": 98,
   "metadata": {
    "collapsed": true
   },
   "outputs": [],
   "source": [
    "import pkuseg\n",
    "\n",
    "# Use default config to load model\n",
    "# seg = pkuseg.pkuseg()\n",
    "\n",
    "# Add word formation\n",
    "# seg = pkuseg.pkuseg(postag=True)\n",
    "\n",
    "# Add word corresponding field\n",
    "# default, news, web, medicine, tourism\n",
    "\n",
    "# Define the words that cannot be separated\n",
    "lexicon = ['特朗普', '微博']\n",
    "seg = pkuseg.pkuseg(model_name='default', user_dict=lexicon)"
   ]
  },
  {
   "cell_type": "code",
   "execution_count": 99,
   "outputs": [
    {
     "name": "stdout",
     "output_type": "stream",
     "text": [
      "['纽约', '时间', '比', '加州', '早', '三', '个', '小时', '但', '不', '意味着', '加州', '变', '得', '很', '慢', '有些', '人', '22', '岁', '就', '毕业', '了', '可', '等', '了', '5', '年', '才', '找到', '稳定', '的', '工作', '有人', '25', '岁', '就', '当上', 'CEO', '却', '在', '50', '岁', '去世', '也', '有人', '50', '岁', '才', '当', '上', 'CEO', '然后', '活到', '90岁', '奥巴马', '55', '岁', '退休', '特朗普', '70', '岁', '才', '开始', '总统', '生涯', '诚然', '世人', '有着', '自己', '的', '时区', '周围', '的', '人', '看似', '走', '在', '了', '你', '前面', '也', '有人', '在', '你', '身后', '但', '每个', '人', '在', '自己', '的', '轨迹', '上', '奔跑', '着', '在', '他们', '的', '时区', '不用', '嫉妒', '或', '嘲笑', '他们', '他们', '在', '他们', '的', '时区', '你', '在', '你', '的', '生命', '就是', '等待', '着', '正确', '的', '时间点', '然后', '行动', '炒股', '亦', '如是', '所以', '放轻松', '你', '未曾', '落后', '也', '从未', '领先', '在', '你', '的', '时区', '里', '一切', '都', '非常', '准时', '一', '美', '佚名', '你', '在', '自己', '的', '时区', '里', '从没', '落后']\n"
     ]
    }
   ],
   "source": [
    "# Separation test\n",
    "text = seg.cut('纽约时间比加州早三个小时但不意味着加州变得很慢有些人22岁就毕业了可等了5年才找到稳定的工作有人25岁就当上CEO却在50岁去世也有人50岁才当上CEO然后活到90岁奥巴马55岁退休特朗普70岁才开始总统生涯诚然世人有着自己的时区周围的人看似走在了你前面也有人在你身后但每个人在自己的轨迹上奔跑着在他们的时区不用嫉妒或嘲笑他们他们在他们的时区你在你的生命就是等待着正确的时间点然后行动炒股亦如是所以放轻松你未曾落后也从未领先在你的时区里一切都非常准时一美佚名你在自己的时区里从没落后')\n",
    "print(text)"
   ],
   "metadata": {
    "collapsed": false,
    "pycharm": {
     "name": "#%%\n"
    }
   }
  },
  {
   "cell_type": "code",
   "execution_count": 100,
   "outputs": [],
   "source": [
    "# Define the words that cannot be separated\n",
    "# lexicon = ['北京大学', '北京天安门']\n",
    "#\n",
    "# # Load the model，apply user dictionary\n",
    "# seg = pkuseg.pkuseg(user_dict=lexicon)\n",
    "#\n",
    "# # Separation test\n",
    "# text = seg.cut('我爱北京天安门')\n",
    "# print(text)"
   ],
   "metadata": {
    "collapsed": false,
    "pycharm": {
     "name": "#%%\n"
    }
   }
  },
  {
   "cell_type": "code",
   "execution_count": 101,
   "outputs": [],
   "source": [
    "import pandas as pd\n",
    "\n",
    "def read_csv(file_path):\n",
    "    dataframe = pd.read_csv(file_path, encoding='utf-8')\n",
    "    return dataframe"
   ],
   "metadata": {
    "collapsed": false,
    "pycharm": {
     "name": "#%%\n"
    }
   }
  },
  {
   "cell_type": "code",
   "execution_count": 102,
   "outputs": [],
   "source": [
    "def get_stop_words(file_path):\n",
    "    stopwords = [line.strip() for line in open(file_path, 'r').readlines()]\n",
    "    return stopwords"
   ],
   "metadata": {
    "collapsed": false,
    "pycharm": {
     "name": "#%% Create stopwords list\n"
    }
   }
  },
  {
   "cell_type": "code",
   "execution_count": 103,
   "outputs": [],
   "source": [
    "def sentence_preprocess(times):\n",
    "    pre_times = []\n",
    "\n",
    "    # Delete some common words in Weibo\n",
    "    for item in times:\n",
    "        item = item.replace(\"O网页链接\", \"\")\n",
    "        item = item.replace(\"L凤凰网视频的微博视频\", \"\")\n",
    "        item = item.replace(\"L微天下的微博视频\", \"\")\n",
    "        item = item.replace(\"L微丢的微博视频\", \"\")\n",
    "        item = item.replace(\"L究竟视频的秒拍视频\", \"\")\n",
    "        item = item.replace(\"邀请您回答问题\", \"\")\n",
    "        item = item.replace(\"O推荐\", \"\")\n",
    "        item = item.replace(\"微博视频\", \"\")\n",
    "        item = item.replace(\"优酷视频\", \"\")\n",
    "        item = item.replace(\"优酷\", \"\")\n",
    "        item = item.replace(\"腾讯新闻\", \"\")\n",
    "        item = item.replace(\"腾讯视频\", \"\")\n",
    "        item = item.replace(\"腾讯\", \"\")\n",
    "        item = item.replace(\"网易新闻客户端\", \"\")\n",
    "        item = item.replace(\"网易新闻\", \"\")\n",
    "        item = item.replace(\"凤凰视频客户端\", \"\")\n",
    "        item = item.replace(\"凤凰视频\", \"\")\n",
    "        item = item.replace(\"O应用宝官网\", \"\")\n",
    "        item = item.replace(\"搜狐新闻客户端\", \"\")\n",
    "        item = item.replace(\"搜狐新闻\", \"\")\n",
    "        item = item.replace(\"搜狐视频\", \"\")\n",
    "        item = item.replace(\"O微博问答\", \"\")\n",
    "        item = item.replace(\"新浪新闻\", \"\")\n",
    "        item = item.replace(\"新浪\", \"\")\n",
    "        item = item.replace(\"秒拍视频\", \"\")\n",
    "        item = item.replace(\"新浪\", \"\")\n",
    "        item = item.replace(\"新浪\", \"\")\n",
    "        pre_times.append(item)\n",
    "\n",
    "    return pre_times"
   ],
   "metadata": {
    "collapsed": false,
    "pycharm": {
     "name": "#%% Sentence pre-process\n"
    }
   }
  },
  {
   "cell_type": "code",
   "execution_count": 104,
   "outputs": [],
   "source": [
    "def sentence_separate(sentence, stop_words):\n",
    "    words = seg.cut(sentence)\n",
    "    out_str = ''\n",
    "    for word in words:\n",
    "        if word not in stop_words:\n",
    "            if word != '\\t':\n",
    "                if len(word) != 1:\n",
    "                    out_str += word\n",
    "                    out_str += \" \"\n",
    "    return out_str"
   ],
   "metadata": {
    "collapsed": false,
    "pycharm": {
     "name": "#%% Sentence separation\n"
    }
   }
  },
  {
   "cell_type": "code",
   "execution_count": 105,
   "outputs": [],
   "source": [
    "df = pd.read_csv('trump/trump_dataset.csv')\n",
    "stop_words_list = get_stop_words('trump/stop_words.txt')\n",
    "\n",
    "sentence_list = df['微博正文'].astype(str)\n",
    "preprocessed_list = sentence_preprocess(sentence_list)\n",
    "\n",
    "new_times = []\n",
    "for time in preprocessed_list:\n",
    "    new_time = sentence_separate(time, stop_words_list)\n",
    "    new_times.append(new_time)"
   ],
   "metadata": {
    "collapsed": false,
    "pycharm": {
     "name": "#%% Word separation for csv\n"
    }
   }
  },
  {
   "cell_type": "code",
   "execution_count": 106,
   "outputs": [],
   "source": [
    "import re\n",
    "\n",
    "content = re.compile(\"[^\\u4e00-\\u9fa5^a-zA-Z0-9 ]\")\n",
    "result = []\n",
    "for time in new_times:\n",
    "    new_time = content.sub('', time)\n",
    "    result.append(new_time)"
   ],
   "metadata": {
    "collapsed": false,
    "pycharm": {
     "name": "#%%\n"
    }
   }
  },
  {
   "cell_type": "code",
   "execution_count": 1,
   "outputs": [
    {
     "ename": "NameError",
     "evalue": "name 'df' is not defined",
     "output_type": "error",
     "traceback": [
      "\u001B[0;31m---------------------------------------------------------------------------\u001B[0m",
      "\u001B[0;31mNameError\u001B[0m                                 Traceback (most recent call last)",
      "\u001B[0;32m<ipython-input-1-48552d77ecd7>\u001B[0m in \u001B[0;36m<module>\u001B[0;34m\u001B[0m\n\u001B[0;32m----> 1\u001B[0;31m \u001B[0;32mdel\u001B[0m \u001B[0mdf\u001B[0m\u001B[0;34m[\u001B[0m\u001B[0;34m'微博正文'\u001B[0m\u001B[0;34m]\u001B[0m\u001B[0;34m\u001B[0m\u001B[0;34m\u001B[0m\u001B[0m\n\u001B[0m\u001B[1;32m      2\u001B[0m \u001B[0mdf\u001B[0m\u001B[0;34m[\u001B[0m\u001B[0;34m'微博正文'\u001B[0m\u001B[0;34m]\u001B[0m \u001B[0;34m=\u001B[0m \u001B[0mresult\u001B[0m\u001B[0;34m\u001B[0m\u001B[0;34m\u001B[0m\u001B[0m\n\u001B[1;32m      3\u001B[0m \u001B[0mprint\u001B[0m\u001B[0;34m(\u001B[0m\u001B[0mresult\u001B[0m\u001B[0;34m[\u001B[0m\u001B[0;36m0\u001B[0m\u001B[0;34m]\u001B[0m\u001B[0;34m[\u001B[0m\u001B[0;36m0\u001B[0m\u001B[0;34m]\u001B[0m\u001B[0;34m)\u001B[0m\u001B[0;34m\u001B[0m\u001B[0;34m\u001B[0m\u001B[0m\n\u001B[1;32m      4\u001B[0m \u001B[0mdf\u001B[0m\u001B[0;34m.\u001B[0m\u001B[0mto_csv\u001B[0m\u001B[0;34m(\u001B[0m\u001B[0;34m'trump/preprocessed_v2.csv'\u001B[0m\u001B[0;34m)\u001B[0m\u001B[0;34m\u001B[0m\u001B[0;34m\u001B[0m\u001B[0m\n",
      "\u001B[0;31mNameError\u001B[0m: name 'df' is not defined"
     ]
    }
   ],
   "source": [
    "del df['微博正文']\n",
    "df['微博正文'] = result\n",
    "print(result[0])\n",
    "df.to_csv('trump/preprocessed_v2.csv')"
   ],
   "metadata": {
    "collapsed": false,
    "pycharm": {
     "name": "#%%\n"
    }
   }
  }
 ],
 "metadata": {
  "kernelspec": {
   "display_name": "Python 3",
   "language": "python",
   "name": "python3"
  },
  "language_info": {
   "codemirror_mode": {
    "name": "ipython",
    "version": 2
   },
   "file_extension": ".py",
   "mimetype": "text/x-python",
   "name": "python",
   "nbconvert_exporter": "python",
   "pygments_lexer": "ipython2",
   "version": "2.7.6"
  }
 },
 "nbformat": 4,
 "nbformat_minor": 0
}