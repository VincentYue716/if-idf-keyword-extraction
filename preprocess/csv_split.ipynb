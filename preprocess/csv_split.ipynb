{
 "cells": [
  {
   "cell_type": "markdown",
   "source": [
    "## Read CSV file into a dataframe with pandas"
   ],
   "metadata": {
    "collapsed": false,
    "pycharm": {
     "name": "#%% md\n"
    }
   }
  },
  {
   "cell_type": "code",
   "execution_count": 1,
   "outputs": [],
   "source": [
    "import pandas as pd\n",
    "\n",
    "def read_csv(file_path):\n",
    "    dataframe = pd.read_csv(file_path, encoding='utf-8')\n",
    "    return dataframe"
   ],
   "metadata": {
    "collapsed": false,
    "pycharm": {
     "name": "#%%\n"
    }
   }
  },
  {
   "cell_type": "markdown",
   "source": [
    "Read the dataset"
   ],
   "metadata": {
    "collapsed": false,
    "pycharm": {
     "name": "#%% md\n"
    }
   }
  },
  {
   "cell_type": "code",
   "execution_count": 2,
   "outputs": [],
   "source": [
    "df = pd.read_csv('../dataset/trump/preprocessed_v3.csv')\n",
    "cols = df.columns"
   ],
   "metadata": {
    "collapsed": false,
    "pycharm": {
     "name": "#%%\n"
    }
   }
  },
  {
   "cell_type": "markdown",
   "source": [
    "## Convert the format of weibo release time\n",
    "\n",
    "### The new format %Y/%m/%d %H:%M helps to extract the release month for splitting the sheet\n",
    "\n",
    "Append the release month to the last column of the sheet"
   ],
   "metadata": {
    "collapsed": false,
    "pycharm": {
     "name": "#%% md\n"
    }
   }
  },
  {
   "cell_type": "code",
   "execution_count": 3,
   "outputs": [],
   "source": [
    "from datetime import datetime\n",
    "\n",
    "times = df['发布时间']\n",
    "month = []\n",
    "for time in times:\n",
    "    time = datetime.strptime(time, '%Y/%m/%d %H:%M')\n",
    "    time = time.strftime('%Y/%m/%d %H:%M')\n",
    "    time = time[5:7]\n",
    "    month.append(time)\n",
    "\n",
    "df['发布月份'] = month\n",
    "df.to_csv('../dataset/trump/preprocessed_v3.csv')"
   ],
   "metadata": {
    "collapsed": false,
    "pycharm": {
     "name": "#%%\n"
    }
   }
  },
  {
   "cell_type": "markdown",
   "source": [
    "Split the sheet based on the last column('Release Month')"
   ],
   "metadata": {
    "collapsed": false,
    "pycharm": {
     "name": "#%% md\n"
    }
   }
  },
  {
   "cell_type": "code",
   "execution_count": 4,
   "outputs": [],
   "source": [
    "for i in set(df.发布月份): # for classified by months files\n",
    "    filename = \"../dataset/trump/trump\"+i+\".csv\"\n",
    "    df.loc[df.发布月份 == i].to_csv(filename, index=False, columns=cols)"
   ],
   "metadata": {
    "collapsed": false,
    "pycharm": {
     "name": "#%%\n"
    }
   }
  }
 ],
 "metadata": {
  "kernelspec": {
   "display_name": "Python 3",
   "language": "python",
   "name": "python3"
  },
  "language_info": {
   "codemirror_mode": {
    "name": "ipython",
    "version": 2
   },
   "file_extension": ".py",
   "mimetype": "text/x-python",
   "name": "python",
   "nbconvert_exporter": "python",
   "pygments_lexer": "ipython2",
   "version": "2.7.6"
  }
 },
 "nbformat": 4,
 "nbformat_minor": 0
}