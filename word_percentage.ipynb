{
 "cells": [
  {
   "cell_type": "code",
   "execution_count": 1,
   "metadata": {
    "collapsed": true
   },
   "outputs": [],
   "source": [
    "import pandas as pd\n",
    "\n",
    "def read_csv_column(csv_path, column_name):\n",
    "    df = pd.read_csv(csv_path, encoding='utf-8', low_memory=False)\n",
    "    return df[column_name].tolist()\n",
    "\n",
    "def read_csv_with_weight(csv_path):\n",
    "    df = pd.read_csv(csv_path, encoding='utf-8', low_memory=False)\n",
    "    # 转发数,评论数,点赞数\n",
    "    comments = df['评论数'].tolist()\n",
    "    reposts = df['转发数'].tolist()\n",
    "    likes = df['点赞数'].tolist()\n",
    "    weibos = df['微博正文'].tolist()\n",
    "    results = []\n",
    "\n",
    "    for row in range(len(weibos)):\n",
    "        times = 1 + int(reposts[row]/100) + int(comments[row]/500) + int(likes[row]/1000)\n",
    "        # if comments[row] + reposts[row] + likes[row] > 10:\n",
    "        #     results.append(weibos[row])\n",
    "        for time in range(times):\n",
    "            results.append(weibos[row])\n",
    "    return results"
   ]
  },
  {
   "cell_type": "code",
   "execution_count": 2,
   "outputs": [
    {
     "name": "stdout",
     "output_type": "stream",
     "text": [
      "317727\n",
      "370763\n"
     ]
    }
   ],
   "source": [
    "contents1 = read_csv_column('./trump/trump_dataset.csv', '微博正文')\n",
    "contents2 = read_csv_with_weight('./trump/trump_dataset.csv')\n",
    "\n",
    "contents_length1 = len(contents1)\n",
    "contents_length2 = len(contents2)\n",
    "print(contents_length1)\n",
    "print(contents_length2)"
   ],
   "metadata": {
    "collapsed": false,
    "pycharm": {
     "name": "#%%\n"
    }
   }
  },
  {
   "cell_type": "code",
   "execution_count": 58,
   "outputs": [
    {
     "name": "stdout",
     "output_type": "stream",
     "text": [
      "313036\n",
      "365799\n",
      "Without weight percent: 98.52%\n",
      "Weight percent: 98.66%\n"
     ]
    }
   ],
   "source": [
    "counter1 = 0\n",
    "counter2 = 0\n",
    "\n",
    "for content in contents1:\n",
    "    if '特朗普' in content:\n",
    "        counter1 = counter1 + 1\n",
    "\n",
    "for content in contents2:\n",
    "    if '特朗普' in content:\n",
    "        counter2 = counter2 + 1\n",
    "\n",
    "print(counter1)\n",
    "print(counter2)\n",
    "\n",
    "print('Without weight percent: {:.2f}%'.format(counter1/contents_length1 * 100))\n",
    "print('Weight percent: {:.2f}%'.format(counter2/contents_length2 * 100))"
   ],
   "metadata": {
    "collapsed": false,
    "pycharm": {
     "name": "#%%\n"
    }
   }
  }
 ],
 "metadata": {
  "kernelspec": {
   "display_name": "Python 3",
   "language": "python",
   "name": "python3"
  },
  "language_info": {
   "codemirror_mode": {
    "name": "ipython",
    "version": 2
   },
   "file_extension": ".py",
   "mimetype": "text/x-python",
   "name": "python",
   "nbconvert_exporter": "python",
   "pygments_lexer": "ipython2",
   "version": "2.7.6"
  }
 },
 "nbformat": 4,
 "nbformat_minor": 0
}